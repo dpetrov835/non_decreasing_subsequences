{
  "nbformat": 4,
  "nbformat_minor": 0,
  "metadata": {
    "colab": {
      "provenance": [],
      "gpuType": "T4"
    },
    "kernelspec": {
      "name": "python3",
      "display_name": "Python 3"
    },
    "language_info": {
      "name": "python"
    },
    "accelerator": "GPU"
  },
  "cells": [
    {
      "cell_type": "code",
      "source": [
        "import random\n",
        "random.seed(38)\n",
        "arr = [round(random.uniform(-5, 5), 5) for i in range(100)]\n",
        "print(arr)"
      ],
      "metadata": {
        "colab": {
          "base_uri": "https://localhost:8080/"
        },
        "id": "mBpIPq6pfJS9",
        "outputId": "643d9e90-81ca-4874-bc9b-e5fa1f9a91f7"
      },
      "execution_count": null,
      "outputs": [
        {
          "output_type": "stream",
          "name": "stdout",
          "text": [
            "[1.39474, -0.70979, 2.24299, -4.33769, 1.97863, -1.25068, 1.08036, -3.29909, -1.55433, -2.33037, -1.70521, 2.26597, -0.26949, 4.62792, 0.82841, -2.76707, 1.12798, 0.28049, -3.59171, 0.26846, -4.88318, -1.25593, 0.36387, 1.86223, 4.59414, 1.14663, -4.75422, -0.24466, -2.49799, 2.47286, 3.93631, -4.1322, 2.7163, -2.0678, -3.1717, -0.46467, -0.81243, -2.12473, -2.36136, -0.66502, 1.89474, -3.36071, -1.27174, -2.60801, 2.28585, -2.51953, 2.39677, -4.71227, 3.55744, -0.72273, 4.34169, 2.96006, 3.42565, -4.69841, 2.48449, 0.25369, 3.86223, 0.66685, -1.52719, 4.04277, 4.94745, -2.79086, -3.542, -0.58329, 1.5757, -3.38586, 0.85705, 0.42934, 2.99043, -3.54643, -3.59494, 0.18462, 2.52281, 0.86928, 2.4307, -2.36297, -4.67203, 1.89295, 1.47189, -4.72687, -4.14123, 1.98443, 1.66624, -2.91671, -2.38558, -0.81699, -4.79314, -1.99932, -2.60104, -4.58021, 0.24658, 4.41245, -4.22231, 1.9273, 1.14141, -2.14774, 1.4348, 2.73187, -2.39972, -0.90728]\n"
          ]
        }
      ]
    },
    {
      "cell_type": "code",
      "execution_count": null,
      "metadata": {
        "id": "COVttd32fHcT"
      },
      "outputs": [],
      "source": [
        "import cupy as cp\n",
        "import numpy as np\n",
        "from multiprocessing import Process, Queue\n",
        "from queue import Empty\n",
        "\n",
        "def precompute_next_j(a, n):\n",
        "    next_j_list = []\n",
        "    for i in range(n):\n",
        "        mask = a[i+1:] >= a[i]\n",
        "        j_list = cp.where(mask)[0] + (i + 1)\n",
        "        next_j_list.append(j_list.get())\n",
        "    return next_j_list\n",
        "\n",
        "def generate_subsequences_iterative(start_i, k, next_j_list, queue):\n",
        "    stack = [([start_i], 0)]\n",
        "    while stack:\n",
        "        current_path, next_j_index = stack[-1]\n",
        "        last = current_path[-1]\n",
        "        if len(current_path) == k:\n",
        "            queue.put(current_path)\n",
        "            stack.pop()\n",
        "            continue\n",
        "        if next_j_index < len(next_j_list[last]):\n",
        "            j = next_j_list[last][next_j_index]\n",
        "            stack[-1] = (current_path, next_j_index + 1)\n",
        "            stack.append((current_path + [j], 0))\n",
        "        else:\n",
        "            stack.pop()\n",
        "\n",
        "def worker(start_indices, k, next_j_list, queue):\n",
        "    for start_i in start_indices:\n",
        "        generate_subsequences_iterative(start_i, k, next_j_list, queue)\n",
        "    queue.put(None)\n",
        "\n",
        "def non_decreasing_subsequences_iterator(a, k, num_processes=32):\n",
        "    n = len(a)\n",
        "    a_cp = cp.array(a, dtype=cp.float32)\n",
        "    next_j_list = precompute_next_j(a_cp, n)\n",
        "    queue = Queue(maxsize=1000)\n",
        "    processes = []\n",
        "    start_indices_list = np.array_split(range(n), num_processes)\n",
        "    for start_indices in start_indices_list:\n",
        "        p = Process(target=worker, args=(start_indices, k, next_j_list, queue))\n",
        "        p.start()\n",
        "        processes.append(p)\n",
        "    finished_processes = 0\n",
        "    while finished_processes < num_processes:\n",
        "        try:\n",
        "            item = queue.get(timeout=1)\n",
        "            if item is None:\n",
        "                finished_processes += 1\n",
        "            else:\n",
        "                yield item\n",
        "        except Empty:\n",
        "            continue\n",
        "    for p in processes:\n",
        "        p.join()"
      ]
    },
    {
      "cell_type": "code",
      "source": [
        "import bisect\n",
        "\n",
        "def lnds(nums):\n",
        "    tails = []\n",
        "    for num in nums:\n",
        "        idx = bisect.bisect_right(tails, num)\n",
        "        if idx == len(tails):\n",
        "            tails.append(num)\n",
        "        else:\n",
        "            tails[idx] = num\n",
        "    return len(tails)\n",
        "\n",
        "k = lnds(arr)\n",
        "print(k)"
      ],
      "metadata": {
        "colab": {
          "base_uri": "https://localhost:8080/"
        },
        "id": "urNWYRbsf9FS",
        "outputId": "83427bbe-69df-4810-ce64-59d2ac2469d7"
      },
      "execution_count": null,
      "outputs": [
        {
          "output_type": "stream",
          "name": "stdout",
          "text": [
            "16\n"
          ]
        }
      ]
    },
    {
      "cell_type": "code",
      "source": [
        "def float_value_iterator(array, k):\n",
        "    base_iterator = non_decreasing_subsequences_iterator(array, k)\n",
        "    for indices in base_iterator:\n",
        "        yield [array[i] for i in indices]"
      ],
      "metadata": {
        "id": "bjI26Dqqimeq"
      },
      "execution_count": null,
      "outputs": []
    },
    {
      "cell_type": "code",
      "source": [
        "iterator = iter(float_value_iterator(arr, k))\n",
        "while True:\n",
        "  try:\n",
        "    print(next(iterator))\n",
        "  except StopIteration: break"
      ],
      "metadata": {
        "id": "jvPFoSlZgIHy",
        "colab": {
          "base_uri": "https://localhost:8080/"
        },
        "outputId": "1a8469fe-3129-469d-e080-15fd37431373"
      },
      "execution_count": null,
      "outputs": [
        {
          "output_type": "stream",
          "name": "stdout",
          "text": [
            "[-4.33769, -3.29909, -2.33037, -1.70521, -0.26949, 0.82841, 1.12798, 1.86223, 1.89474, 2.28585, 2.39677, 2.96006, 3.42565, 3.86223, 4.04277, 4.94745]\n",
            "[-4.33769, -3.29909, -2.33037, -1.70521, -0.26949, 0.82841, 1.12798, 1.86223, 1.89474, 2.28585, 2.39677, 2.96006, 3.42565, 3.86223, 4.04277, 4.41245]\n",
            "[-4.33769, -3.29909, -2.33037, -1.70521, -0.26949, 0.82841, 1.12798, 1.14663, 1.89474, 2.28585, 2.39677, 2.96006, 3.42565, 3.86223, 4.04277, 4.94745]\n",
            "[-4.33769, -3.29909, -2.33037, -1.70521, -0.26949, 0.82841, 1.12798, 1.14663, 1.89474, 2.28585, 2.39677, 2.96006, 3.42565, 3.86223, 4.04277, 4.41245]\n",
            "[-4.33769, -3.29909, -2.33037, -1.70521, -0.26949, 0.28049, 0.36387, 1.86223, 1.89474, 2.28585, 2.39677, 2.96006, 3.42565, 3.86223, 4.04277, 4.94745]\n",
            "[-4.33769, -3.29909, -2.33037, -1.70521, -0.26949, 0.28049, 0.36387, 1.86223, 1.89474, 2.28585, 2.39677, 2.96006, 3.42565, 3.86223, 4.04277, 4.41245]\n",
            "[-4.33769, -3.29909, -2.33037, -1.70521, -0.26949, 0.28049, 0.36387, 1.14663, 1.89474, 2.28585, 2.39677, 2.96006, 3.42565, 3.86223, 4.04277, 4.94745]\n",
            "[-4.33769, -3.29909, -2.33037, -1.70521, -0.26949, 0.28049, 0.36387, 1.14663, 1.89474, 2.28585, 2.39677, 2.96006, 3.42565, 3.86223, 4.04277, 4.41245]\n",
            "[-4.33769, -3.29909, -2.33037, -1.70521, -0.26949, 0.26846, 0.36387, 1.86223, 1.89474, 2.28585, 2.39677, 2.96006, 3.42565, 3.86223, 4.04277, 4.94745]\n",
            "[-4.33769, -3.29909, -2.33037, -1.70521, -0.26949, 0.26846, 0.36387, 1.86223, 1.89474, 2.28585, 2.39677, 2.96006, 3.42565, 3.86223, 4.04277, 4.41245]\n",
            "[-4.33769, -3.29909, -2.33037, -1.70521, -0.26949, 0.26846, 0.36387, 1.14663, 1.89474, 2.28585, 2.39677, 2.96006, 3.42565, 3.86223, 4.04277, 4.94745]\n",
            "[-4.33769, -3.29909, -2.33037, -1.70521, -0.26949, 0.26846, 0.36387, 1.14663, 1.89474, 2.28585, 2.39677, 2.96006, 3.42565, 3.86223, 4.04277, 4.41245]\n"
          ]
        }
      ]
    },
    {
      "cell_type": "code",
      "source": [],
      "metadata": {
        "id": "Ab2ZqGNPgNhZ"
      },
      "execution_count": null,
      "outputs": []
    }
  ]
}