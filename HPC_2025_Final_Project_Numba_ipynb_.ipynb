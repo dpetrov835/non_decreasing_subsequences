{
  "nbformat": 4,
  "nbformat_minor": 0,
  "metadata": {
    "colab": {
      "provenance": [],
      "gpuType": "T4"
    },
    "kernelspec": {
      "name": "python3",
      "display_name": "Python 3"
    },
    "language_info": {
      "name": "python"
    },
    "accelerator": "GPU"
  },
  "cells": [
    {
      "cell_type": "code",
      "source": [
        "import random\n",
        "random.seed(38)\n",
        "arr = np.array([round(random.uniform(-5, 5), 5) for i in range(175)])\n",
        "print(arr)"
      ],
      "metadata": {
        "colab": {
          "base_uri": "https://localhost:8080/"
        },
        "id": "mBpIPq6pfJS9",
        "outputId": "d565f78a-be86-41ec-95fe-08cb70195304"
      },
      "execution_count": 33,
      "outputs": [
        {
          "output_type": "stream",
          "name": "stdout",
          "text": [
            "[ 1.39474 -0.70979  2.24299 -4.33769  1.97863 -1.25068  1.08036 -3.29909\n",
            " -1.55433 -2.33037 -1.70521  2.26597 -0.26949  4.62792  0.82841 -2.76707\n",
            "  1.12798  0.28049 -3.59171  0.26846 -4.88318 -1.25593  0.36387  1.86223\n",
            "  4.59414  1.14663 -4.75422 -0.24466 -2.49799  2.47286  3.93631 -4.1322\n",
            "  2.7163  -2.0678  -3.1717  -0.46467 -0.81243 -2.12473 -2.36136 -0.66502\n",
            "  1.89474 -3.36071 -1.27174 -2.60801  2.28585 -2.51953  2.39677 -4.71227\n",
            "  3.55744 -0.72273  4.34169  2.96006  3.42565 -4.69841  2.48449  0.25369\n",
            "  3.86223  0.66685 -1.52719  4.04277  4.94745 -2.79086 -3.542   -0.58329\n",
            "  1.5757  -3.38586  0.85705  0.42934  2.99043 -3.54643 -3.59494  0.18462\n",
            "  2.52281  0.86928  2.4307  -2.36297 -4.67203  1.89295  1.47189 -4.72687\n",
            " -4.14123  1.98443  1.66624 -2.91671 -2.38558 -0.81699 -4.79314 -1.99932\n",
            " -2.60104 -4.58021  0.24658  4.41245 -4.22231  1.9273   1.14141 -2.14774\n",
            "  1.4348   2.73187 -2.39972 -0.90728  1.2709  -0.59845 -3.14333 -0.96776\n",
            "  2.10727  0.85762 -1.76021 -2.19186 -3.30931  1.66743  2.78729 -2.57585\n",
            "  1.21433 -4.31354 -3.23733  0.92852 -1.32985 -0.74889 -4.44908  0.06029\n",
            " -0.26542 -2.7082   1.26443 -2.75435 -1.46613 -3.93307  3.66156  0.58176\n",
            "  4.01784 -1.56885  2.75985  1.68012 -4.54207  4.21443  0.06717 -1.7198\n",
            " -1.28166 -2.22448  2.63143 -0.6319  -0.82589 -0.56601  1.87275  0.85425\n",
            " -2.65101  0.78999  4.67615 -1.38268  3.55538  3.37082 -0.41955  4.74933\n",
            " -2.49658 -2.70734 -0.93547 -3.83392 -4.23848 -1.4945  -0.13729  0.94287\n",
            "  3.77123  0.65979  0.29646 -4.97544 -4.95237  0.06103 -2.36679  4.97219\n",
            "  3.2637  -3.57252 -4.57161  3.27745  4.70019  2.39224 -4.32693]\n"
          ]
        }
      ]
    },
    {
      "cell_type": "code",
      "execution_count": 34,
      "metadata": {
        "id": "COVttd32fHcT"
      },
      "outputs": [],
      "source": [
        "import numpy as np\n",
        "from multiprocessing import Process, Queue, cpu_count\n",
        "from queue import Empty\n",
        "import numba\n",
        "\n",
        "def precompute_next_j(a):\n",
        "    \"\"\"Precompute next valid indices.\"\"\"\n",
        "    n = len(a)\n",
        "    return [np.where(a[i+1:] >= a[i])[0] + (i + 1) for i in range(n)]\n",
        "\n",
        "@numba.jit(nopython=True)\n",
        "def generate_subsequences(start_i, k, all_j, offsets):\n",
        "    \"\"\"Generate subsequences using Numba for speed.\"\"\"\n",
        "    results = []\n",
        "    stack = [(start_i, 0, [start_i])]  # (last, j_idx, path)\n",
        "    while stack:\n",
        "        last, j_idx, path = stack.pop()\n",
        "        if len(path) == k:\n",
        "            results.append(path)\n",
        "            continue\n",
        "        next_j_start = offsets[last]\n",
        "        next_j_end = offsets[last + 1]\n",
        "        for idx in range(j_idx, next_j_end - next_j_start):\n",
        "            j = all_j[next_j_start + idx]\n",
        "            stack.append((j, 0, path + [j]))\n",
        "    return results\n",
        "\n",
        "def worker(start_indices, k, all_j, offsets, queue):\n",
        "    \"\"\"Worker sends subsequences one at a time.\"\"\"\n",
        "    for start_i in start_indices:\n",
        "        subsequences = generate_subsequences(start_i, k, all_j, offsets)\n",
        "        for seq in subsequences:\n",
        "            queue.put(seq)\n",
        "    queue.put(None)\n",
        "\n",
        "def non_decreasing_subsequences_iterator(a, k, num_processes=cpu_count()):\n",
        "    \"\"\"Iterator with Numba optimization.\"\"\"\n",
        "    next_j_list = precompute_next_j(a)\n",
        "    all_j = np.concatenate(next_j_list)\n",
        "    offsets = np.cumsum([0] + [len(j) for j in next_j_list])\n",
        "    queue = Queue(maxsize=1000)  # Smaller queue\n",
        "    processes = []\n",
        "    start_indices_list = np.array_split(range(len(a)), num_processes)\n",
        "\n",
        "    for start_indices in start_indices_list:\n",
        "        p = Process(target=worker, args=(start_indices, k, all_j, offsets, queue))\n",
        "        p.start()\n",
        "        processes.append(p)\n",
        "\n",
        "    finished_processes = 0\n",
        "    while finished_processes < num_processes:\n",
        "        try:\n",
        "            item = queue.get(timeout=1)\n",
        "            if item is None:\n",
        "                finished_processes += 1\n",
        "            else:\n",
        "                yield item\n",
        "        except Empty:\n",
        "            continue\n",
        "\n",
        "    for p in processes:\n",
        "        p.join()"
      ]
    },
    {
      "cell_type": "code",
      "source": [
        "import bisect\n",
        "\n",
        "def lnds(nums):\n",
        "    tails = []\n",
        "    for num in nums:\n",
        "        idx = bisect.bisect_right(tails, num)\n",
        "        if idx == len(tails):\n",
        "            tails.append(num)\n",
        "        else:\n",
        "            tails[idx] = num\n",
        "    return len(tails)\n",
        "\n",
        "k = lnds(arr)\n",
        "print(k)"
      ],
      "metadata": {
        "colab": {
          "base_uri": "https://localhost:8080/"
        },
        "id": "urNWYRbsf9FS",
        "outputId": "f8da0c5d-f055-49aa-8d28-d25de4f656b4"
      },
      "execution_count": 35,
      "outputs": [
        {
          "output_type": "stream",
          "name": "stdout",
          "text": [
            "22\n"
          ]
        }
      ]
    },
    {
      "cell_type": "code",
      "source": [
        "def float_value_iterator(array, k):\n",
        "    base_iterator = non_decreasing_subsequences_iterator(array, k)\n",
        "    for indices in base_iterator:\n",
        "        yield [array[i] for i in indices]"
      ],
      "metadata": {
        "id": "bjI26Dqqimeq"
      },
      "execution_count": 36,
      "outputs": []
    },
    {
      "cell_type": "code",
      "source": [
        "import time\n",
        "iterator = iter(float_value_iterator(arr, k))\n",
        "start = time.time()\n",
        "while True:\n",
        "  try:\n",
        "    print(next(iterator))\n",
        "  except StopIteration: break\n",
        "stop = time.time()\n",
        "print(stop - start)"
      ],
      "metadata": {
        "id": "jvPFoSlZgIHy",
        "colab": {
          "base_uri": "https://localhost:8080/"
        },
        "outputId": "a9bcc4c1-5453-4028-dc82-47200267203a"
      },
      "execution_count": 37,
      "outputs": [
        {
          "output_type": "stream",
          "name": "stdout",
          "text": [
            "[np.float64(-4.33769), np.float64(-3.29909), np.float64(-2.76707), np.float64(-2.49799), np.float64(-2.36136), np.float64(-1.27174), np.float64(-0.72273), np.float64(0.25369), np.float64(0.66685), np.float64(0.85705), np.float64(0.86928), np.float64(1.47189), np.float64(1.66624), np.float64(1.9273), np.float64(2.10727), np.float64(2.78729), np.float64(3.66156), np.float64(4.01784), np.float64(4.21443), np.float64(4.67615), np.float64(4.74933), np.float64(4.97219)]\n",
            "[np.float64(-4.33769), np.float64(-3.29909), np.float64(-2.76707), np.float64(-2.49799), np.float64(-2.36136), np.float64(-1.27174), np.float64(-0.72273), np.float64(0.25369), np.float64(0.66685), np.float64(0.85705), np.float64(0.86928), np.float64(1.47189), np.float64(1.66624), np.float64(1.9273), np.float64(2.73187), np.float64(2.78729), np.float64(3.66156), np.float64(4.01784), np.float64(4.21443), np.float64(4.67615), np.float64(4.74933), np.float64(4.97219)]\n",
            "[np.float64(-4.33769), np.float64(-3.29909), np.float64(-2.76707), np.float64(-2.49799), np.float64(-2.12473), np.float64(-1.27174), np.float64(-0.72273), np.float64(0.25369), np.float64(0.66685), np.float64(0.85705), np.float64(0.86928), np.float64(1.47189), np.float64(1.66624), np.float64(1.9273), np.float64(2.10727), np.float64(2.78729), np.float64(3.66156), np.float64(4.01784), np.float64(4.21443), np.float64(4.67615), np.float64(4.74933), np.float64(4.97219)]\n",
            "[np.float64(-4.33769), np.float64(-3.29909), np.float64(-2.76707), np.float64(-2.49799), np.float64(-2.12473), np.float64(-1.27174), np.float64(-0.72273), np.float64(0.25369), np.float64(0.66685), np.float64(0.85705), np.float64(0.86928), np.float64(1.47189), np.float64(1.66624), np.float64(1.9273), np.float64(2.73187), np.float64(2.78729), np.float64(3.66156), np.float64(4.01784), np.float64(4.21443), np.float64(4.67615), np.float64(4.74933), np.float64(4.97219)]\n",
            "[np.float64(-4.33769), np.float64(-3.29909), np.float64(-2.76707), np.float64(-2.49799), np.float64(-2.0678), np.float64(-1.27174), np.float64(-0.72273), np.float64(0.25369), np.float64(0.66685), np.float64(0.85705), np.float64(0.86928), np.float64(1.47189), np.float64(1.66624), np.float64(1.9273), np.float64(2.10727), np.float64(2.78729), np.float64(3.66156), np.float64(4.01784), np.float64(4.21443), np.float64(4.67615), np.float64(4.74933), np.float64(4.97219)]\n",
            "[np.float64(-4.33769), np.float64(-3.29909), np.float64(-2.76707), np.float64(-2.49799), np.float64(-2.0678), np.float64(-1.27174), np.float64(-0.72273), np.float64(0.25369), np.float64(0.66685), np.float64(0.85705), np.float64(0.86928), np.float64(1.47189), np.float64(1.66624), np.float64(1.9273), np.float64(2.73187), np.float64(2.78729), np.float64(3.66156), np.float64(4.01784), np.float64(4.21443), np.float64(4.67615), np.float64(4.74933), np.float64(4.97219)]\n",
            "[np.float64(-4.33769), np.float64(-3.29909), np.float64(-2.76707), np.float64(-2.49799), np.float64(-2.0678), np.float64(-0.81243), np.float64(-0.72273), np.float64(0.25369), np.float64(0.66685), np.float64(0.85705), np.float64(0.86928), np.float64(1.47189), np.float64(1.66624), np.float64(1.9273), np.float64(2.10727), np.float64(2.78729), np.float64(3.66156), np.float64(4.01784), np.float64(4.21443), np.float64(4.67615), np.float64(4.74933), np.float64(4.97219)]\n",
            "[np.float64(-4.33769), np.float64(-3.29909), np.float64(-2.76707), np.float64(-2.49799), np.float64(-2.0678), np.float64(-0.81243), np.float64(-0.72273), np.float64(0.25369), np.float64(0.66685), np.float64(0.85705), np.float64(0.86928), np.float64(1.47189), np.float64(1.66624), np.float64(1.9273), np.float64(2.73187), np.float64(2.78729), np.float64(3.66156), np.float64(4.01784), np.float64(4.21443), np.float64(4.67615), np.float64(4.74933), np.float64(4.97219)]\n",
            "[np.float64(-4.33769), np.float64(-3.29909), np.float64(-2.76707), np.float64(-2.49799), np.float64(-2.0678), np.float64(-0.81243), np.float64(-0.66502), np.float64(0.25369), np.float64(0.66685), np.float64(0.85705), np.float64(0.86928), np.float64(1.47189), np.float64(1.66624), np.float64(1.9273), np.float64(2.10727), np.float64(2.78729), np.float64(3.66156), np.float64(4.01784), np.float64(4.21443), np.float64(4.67615), np.float64(4.74933), np.float64(4.97219)]\n",
            "[np.float64(-4.33769), np.float64(-3.29909), np.float64(-2.76707), np.float64(-2.49799), np.float64(-2.0678), np.float64(-0.81243), np.float64(-0.66502), np.float64(0.25369), np.float64(0.66685), np.float64(0.85705), np.float64(0.86928), np.float64(1.47189), np.float64(1.66624), np.float64(1.9273), np.float64(2.73187), np.float64(2.78729), np.float64(3.66156), np.float64(4.01784), np.float64(4.21443), np.float64(4.67615), np.float64(4.74933), np.float64(4.97219)]\n",
            "[np.float64(-4.33769), np.float64(-3.29909), np.float64(-2.33037), np.float64(-1.70521), np.float64(-1.25593), np.float64(-0.81243), np.float64(-0.72273), np.float64(0.25369), np.float64(0.66685), np.float64(0.85705), np.float64(0.86928), np.float64(1.47189), np.float64(1.66624), np.float64(1.9273), np.float64(2.10727), np.float64(2.78729), np.float64(3.66156), np.float64(4.01784), np.float64(4.21443), np.float64(4.67615), np.float64(4.74933), np.float64(4.97219)]\n",
            "[np.float64(-4.33769), np.float64(-3.29909), np.float64(-2.33037), np.float64(-1.70521), np.float64(-1.25593), np.float64(-0.81243), np.float64(-0.72273), np.float64(0.25369), np.float64(0.66685), np.float64(0.85705), np.float64(0.86928), np.float64(1.47189), np.float64(1.66624), np.float64(1.9273), np.float64(2.73187), np.float64(2.78729), np.float64(3.66156), np.float64(4.01784), np.float64(4.21443), np.float64(4.67615), np.float64(4.74933), np.float64(4.97219)]\n",
            "[np.float64(-4.33769), np.float64(-3.29909), np.float64(-2.33037), np.float64(-1.70521), np.float64(-1.25593), np.float64(-0.81243), np.float64(-0.66502), np.float64(0.25369), np.float64(0.66685), np.float64(0.85705), np.float64(0.86928), np.float64(1.47189), np.float64(1.66624), np.float64(1.9273), np.float64(2.10727), np.float64(2.78729), np.float64(3.66156), np.float64(4.01784), np.float64(4.21443), np.float64(4.67615), np.float64(4.74933), np.float64(4.97219)]\n",
            "[np.float64(-4.33769), np.float64(-3.29909), np.float64(-2.33037), np.float64(-1.70521), np.float64(-1.25593), np.float64(-0.81243), np.float64(-0.66502), np.float64(0.25369), np.float64(0.66685), np.float64(0.85705), np.float64(0.86928), np.float64(1.47189), np.float64(1.66624), np.float64(1.9273), np.float64(2.73187), np.float64(2.78729), np.float64(3.66156), np.float64(4.01784), np.float64(4.21443), np.float64(4.67615), np.float64(4.74933), np.float64(4.97219)]\n",
            "[np.float64(-4.88318), np.float64(-4.75422), np.float64(-4.1322), np.float64(-3.36071), np.float64(-2.60801), np.float64(-2.51953), np.float64(-0.72273), np.float64(0.25369), np.float64(0.66685), np.float64(0.85705), np.float64(0.86928), np.float64(1.47189), np.float64(1.66624), np.float64(1.9273), np.float64(2.10727), np.float64(2.78729), np.float64(3.66156), np.float64(4.01784), np.float64(4.21443), np.float64(4.67615), np.float64(4.74933), np.float64(4.97219)]\n",
            "[np.float64(-4.88318), np.float64(-4.75422), np.float64(-4.1322), np.float64(-3.36071), np.float64(-2.60801), np.float64(-2.51953), np.float64(-0.72273), np.float64(0.25369), np.float64(0.66685), np.float64(0.85705), np.float64(0.86928), np.float64(1.47189), np.float64(1.66624), np.float64(1.9273), np.float64(2.73187), np.float64(2.78729), np.float64(3.66156), np.float64(4.01784), np.float64(4.21443), np.float64(4.67615), np.float64(4.74933), np.float64(4.97219)]\n",
            "[np.float64(-4.88318), np.float64(-4.75422), np.float64(-4.1322), np.float64(-3.1717), np.float64(-2.60801), np.float64(-2.51953), np.float64(-0.72273), np.float64(0.25369), np.float64(0.66685), np.float64(0.85705), np.float64(0.86928), np.float64(1.47189), np.float64(1.66624), np.float64(1.9273), np.float64(2.10727), np.float64(2.78729), np.float64(3.66156), np.float64(4.01784), np.float64(4.21443), np.float64(4.67615), np.float64(4.74933), np.float64(4.97219)]\n",
            "[np.float64(-4.88318), np.float64(-4.75422), np.float64(-4.1322), np.float64(-3.1717), np.float64(-2.60801), np.float64(-2.51953), np.float64(-0.72273), np.float64(0.25369), np.float64(0.66685), np.float64(0.85705), np.float64(0.86928), np.float64(1.47189), np.float64(1.66624), np.float64(1.9273), np.float64(2.73187), np.float64(2.78729), np.float64(3.66156), np.float64(4.01784), np.float64(4.21443), np.float64(4.67615), np.float64(4.74933), np.float64(4.97219)]\n",
            "[np.float64(-4.88318), np.float64(-4.75422), np.float64(-4.1322), np.float64(-3.1717), np.float64(-2.36136), np.float64(-1.27174), np.float64(-0.72273), np.float64(0.25369), np.float64(0.66685), np.float64(0.85705), np.float64(0.86928), np.float64(1.47189), np.float64(1.66624), np.float64(1.9273), np.float64(2.10727), np.float64(2.78729), np.float64(3.66156), np.float64(4.01784), np.float64(4.21443), np.float64(4.67615), np.float64(4.74933), np.float64(4.97219)]\n",
            "[np.float64(-4.88318), np.float64(-4.75422), np.float64(-4.1322), np.float64(-3.1717), np.float64(-2.36136), np.float64(-1.27174), np.float64(-0.72273), np.float64(0.25369), np.float64(0.66685), np.float64(0.85705), np.float64(0.86928), np.float64(1.47189), np.float64(1.66624), np.float64(1.9273), np.float64(2.73187), np.float64(2.78729), np.float64(3.66156), np.float64(4.01784), np.float64(4.21443), np.float64(4.67615), np.float64(4.74933), np.float64(4.97219)]\n",
            "[np.float64(-4.88318), np.float64(-4.75422), np.float64(-4.1322), np.float64(-3.1717), np.float64(-2.12473), np.float64(-1.27174), np.float64(-0.72273), np.float64(0.25369), np.float64(0.66685), np.float64(0.85705), np.float64(0.86928), np.float64(1.47189), np.float64(1.66624), np.float64(1.9273), np.float64(2.10727), np.float64(2.78729), np.float64(3.66156), np.float64(4.01784), np.float64(4.21443), np.float64(4.67615), np.float64(4.74933), np.float64(4.97219)]\n",
            "[np.float64(-4.88318), np.float64(-4.75422), np.float64(-4.1322), np.float64(-3.1717), np.float64(-2.12473), np.float64(-1.27174), np.float64(-0.72273), np.float64(0.25369), np.float64(0.66685), np.float64(0.85705), np.float64(0.86928), np.float64(1.47189), np.float64(1.66624), np.float64(1.9273), np.float64(2.73187), np.float64(2.78729), np.float64(3.66156), np.float64(4.01784), np.float64(4.21443), np.float64(4.67615), np.float64(4.74933), np.float64(4.97219)]\n",
            "727.0093882083893\n"
          ]
        }
      ]
    },
    {
      "cell_type": "code",
      "source": [],
      "metadata": {
        "id": "Ab2ZqGNPgNhZ"
      },
      "execution_count": null,
      "outputs": []
    }
  ]
}